{
 "cells": [
  {
   "cell_type": "markdown",
   "metadata": {
    "id": "rAz153T3RuPb"
   },
   "source": [
    "<a href=\"https://colab.research.google.com/github/https-deeplearning-ai/tensorflow-1-public/blob/master/C3/W2/ungraded_labs/C3_W2_Lab_2_sarcasm_classifier.ipynb\" target=\"_parent\"><img src=\"https://colab.research.google.com/assets/colab-badge.svg\" alt=\"Open In Colab\"/></a>"
   ]
  },
  {
   "cell_type": "markdown",
   "metadata": {
    "id": "ZfVtdwryvvP6"
   },
   "source": [
    "# Ungraded Lab: Training a binary classifier with the Sarcasm Dataset\n",
    "\n",
    "In this lab, you will revisit the [News Headlines Dataset for Sarcasm Detection](https://www.kaggle.com/rmisra/news-headlines-dataset-for-sarcasm-detection/home) from last week and proceed to build a train a model on it. The steps will be very similar to the previous lab with IMDB Reviews with just some minor modifications. You can tweak the hyperparameters and see how it affects the results. Let's begin!"
   ]
  },
  {
   "cell_type": "markdown",
   "metadata": {
    "id": "aWIM6gplHqfx"
   },
   "source": [
    "## Download the dataset\n",
    "\n",
    "You will first download the JSON file, load it into your workspace and put the sentences and labels into lists. "
   ]
  },
  {
   "cell_type": "code",
   "execution_count": 1,
   "metadata": {
    "collapsed": true,
    "id": "BQVuQrZNkPn9",
    "jupyter": {
     "outputs_hidden": true
    },
    "tags": []
   },
   "outputs": [
    {
     "name": "stderr",
     "output_type": "stream",
     "text": [
      "--2022-04-28 21:51:25--  https://storage.googleapis.com/tensorflow-1-public/course3/sarcasm.json\n",
      "Resolving storage.googleapis.com (storage.googleapis.com)... 2607:f8b0:4002:c0f::80, 2607:f8b0:4002:c06::80, 2607:f8b0:4002:c11::80, ...\n",
      "Connecting to storage.googleapis.com (storage.googleapis.com)|2607:f8b0:4002:c0f::80|:443... connected.\n",
      "HTTP request sent, awaiting response... 200 OK\n",
      "Length: 5643545 (5.4M) [application/json]\n",
      "Saving to: 'sarcasm.json'\n",
      "\n",
      "     0K .......... .......... .......... .......... ..........  0% 4.79M 1s\n",
      "    50K .......... .......... .......... .......... ..........  1% 7.71M 1s\n",
      "   100K .......... .......... .......... .......... ..........  2% 10.6M 1s\n",
      "   150K .......... .......... .......... .......... ..........  3% 11.9M 1s\n",
      "   200K .......... .......... .......... .......... ..........  4% 6.41M 1s\n",
      "   250K .......... .......... .......... .......... ..........  5% 9.98M 1s\n",
      "   300K .......... .......... .......... .......... ..........  6% 10.8M 1s\n",
      "   350K .......... .......... .......... .......... ..........  7% 10.5M 1s\n",
      "   400K .......... .......... .......... .......... ..........  8% 10.5M 1s\n",
      "   450K .......... .......... .......... .......... ..........  9% 10.5M 1s\n",
      "   500K .......... .......... .......... .......... ..........  9% 10.1M 1s\n",
      "   550K .......... .......... .......... .......... .......... 10% 8.51M 1s\n",
      "   600K .......... .......... .......... .......... .......... 11% 9.32M 1s\n",
      "   650K .......... .......... .......... .......... .......... 12% 10.0M 1s\n",
      "   700K .......... .......... .......... .......... .......... 13% 10.7M 1s\n",
      "   750K .......... .......... .......... .......... .......... 14% 10.1M 1s\n",
      "   800K .......... .......... .......... .......... .......... 15% 11.6M 0s\n",
      "   850K .......... .......... .......... .......... .......... 16% 10.4M 0s\n",
      "   900K .......... .......... .......... .......... .......... 17% 11.9M 0s\n",
      "   950K .......... .......... .......... .......... .......... 18% 10.1M 0s\n",
      "  1000K .......... .......... .......... .......... .......... 19% 9.69M 0s\n",
      "  1050K .......... .......... .......... .......... .......... 19% 31.0M 0s\n",
      "  1100K .......... .......... .......... .......... .......... 20% 50.8M 0s\n",
      "  1150K .......... .......... .......... .......... .......... 21% 31.0M 0s\n",
      "  1200K .......... .......... .......... .......... .......... 22% 36.3M 0s\n",
      "  1250K .......... .......... .......... .......... .......... 23% 49.8M 0s\n",
      "  1300K .......... .......... .......... .......... .......... 24% 50.9M 0s\n",
      "  1350K .......... .......... .......... .......... .......... 25% 39.6M 0s\n",
      "  1400K .......... .......... .......... .......... .......... 26% 55.1M 0s\n",
      "  1450K .......... .......... .......... .......... .......... 27% 38.5M 0s\n",
      "  1500K .......... .......... .......... .......... .......... 28% 1.27M 0s\n",
      "  1550K .......... .......... .......... .......... .......... 29% 11.7M 0s\n",
      "  1600K .......... .......... .......... .......... .......... 29% 25.6M 0s\n",
      "  1650K .......... .......... .......... .......... .......... 30% 11.6M 0s\n",
      "  1700K .......... .......... .......... .......... .......... 31% 6.60M 0s\n",
      "  1750K .......... .......... .......... .......... .......... 32% 14.7M 0s\n",
      "  1800K .......... .......... .......... .......... .......... 33% 27.7M 0s\n",
      "  1850K .......... .......... .......... .......... .......... 34% 8.74M 0s\n",
      "  1900K .......... .......... .......... .......... .......... 35% 5.89M 0s\n",
      "  1950K .......... .......... .......... .......... .......... 36% 16.1M 0s\n",
      "  2000K .......... .......... .......... .......... .......... 37% 20.6M 0s\n",
      "  2050K .......... .......... .......... .......... .......... 38% 17.2M 0s\n",
      "  2100K .......... .......... .......... .......... .......... 39% 7.97M 0s\n",
      "  2150K .......... .......... .......... .......... .......... 39% 19.0M 0s\n",
      "  2200K .......... .......... .......... .......... .......... 40% 21.3M 0s\n",
      "  2250K .......... .......... .......... .......... .......... 41% 22.5M 0s\n",
      "  2300K .......... .......... .......... .......... .......... 42% 16.1M 0s\n",
      "  2350K .......... .......... .......... .......... .......... 43% 16.9M 0s\n",
      "  2400K .......... .......... .......... .......... .......... 44% 6.28M 0s\n",
      "  2450K .......... .......... .......... .......... .......... 45% 25.5M 0s\n",
      "  2500K .......... .......... .......... .......... .......... 46% 13.3M 0s\n",
      "  2550K .......... .......... .......... .......... .......... 47% 24.0M 0s\n",
      "  2600K .......... .......... .......... .......... .......... 48% 19.2M 0s\n",
      "  2650K .......... .......... .......... .......... .......... 48% 8.90M 0s\n",
      "  2700K .......... .......... .......... .......... .......... 49% 18.1M 0s\n",
      "  2750K .......... .......... .......... .......... .......... 50% 16.5M 0s\n",
      "  2800K .......... .......... .......... .......... .......... 51% 8.11M 0s\n",
      "  2850K .......... .......... .......... .......... .......... 52% 22.1M 0s\n",
      "  2900K .......... .......... .......... .......... .......... 53% 14.2M 0s\n",
      "  2950K .......... .......... .......... .......... .......... 54% 25.1M 0s\n",
      "  3000K .......... .......... .......... .......... .......... 55% 7.49M 0s\n",
      "  3050K .......... .......... .......... .......... .......... 56% 21.0M 0s\n",
      "  3100K .......... .......... .......... .......... .......... 57% 22.2M 0s\n",
      "  3150K .......... .......... .......... .......... .......... 58% 14.3M 0s\n",
      "  3200K .......... .......... .......... .......... .......... 58% 20.8M 0s\n",
      "  3250K .......... .......... .......... .......... .......... 59% 22.6M 0s\n",
      "  3300K .......... .......... .......... .......... .......... 60% 12.7M 0s\n",
      "  3350K .......... .......... .......... .......... .......... 61% 21.3M 0s\n",
      "  3400K .......... .......... .......... .......... .......... 62% 6.56M 0s\n",
      "  3450K .......... .......... .......... .......... .......... 63% 18.4M 0s\n",
      "  3500K .......... .......... .......... .......... .......... 64% 26.1M 0s\n",
      "  3550K .......... .......... .......... .......... .......... 65% 12.2M 0s\n",
      "  3600K .......... .......... .......... .......... .......... 66% 22.6M 0s\n",
      "  3650K .......... .......... .......... .......... .......... 67% 14.3M 0s\n",
      "  3700K .......... .......... .......... .......... .......... 68% 7.28M 0s\n",
      "  3750K .......... .......... .......... .......... .......... 68% 24.8M 0s\n",
      "  3800K .......... .......... .......... .......... .......... 69% 13.6M 0s\n",
      "  3850K .......... .......... .......... .......... .......... 70% 13.4M 0s\n",
      "  3900K .......... .......... .......... .......... .......... 71% 6.34M 0s\n",
      "  3950K .......... .......... .......... .......... .......... 72% 22.1M 0s\n",
      "  4000K .......... .......... .......... .......... .......... 73% 23.7M 0s\n",
      "  4050K .......... .......... .......... .......... .......... 74% 15.1M 0s\n",
      "  4100K .......... .......... .......... .......... .......... 75% 7.47M 0s\n",
      "  4150K .......... .......... .......... .......... .......... 76% 16.4M 0s\n",
      "  4200K .......... .......... .......... .......... .......... 77% 17.6M 0s\n",
      "  4250K .......... .......... .......... .......... .......... 78% 15.7M 0s\n",
      "  4300K .......... .......... .......... .......... .......... 78% 1.51M 0s\n",
      "  4350K .......... .......... .......... .......... .......... 79% 16.2M 0s\n",
      "  4400K .......... .......... .......... .......... .......... 80% 20.0M 0s\n",
      "  4450K .......... .......... .......... .......... .......... 81% 21.1M 0s\n",
      "  4500K .......... .......... .......... .......... .......... 82% 7.02M 0s\n",
      "  4550K .......... .......... .......... .......... .......... 83% 20.6M 0s\n",
      "  4600K .......... .......... .......... .......... .......... 84% 19.4M 0s\n",
      "  4650K .......... .......... .......... .......... .......... 85% 13.7M 0s\n",
      "  4700K .......... .......... .......... .......... .......... 86% 25.3M 0s\n",
      "  4750K .......... .......... .......... .......... .......... 87% 6.63M 0s\n",
      "  4800K .......... .......... .......... .......... .......... 88% 18.0M 0s\n",
      "  4850K .......... .......... .......... .......... .......... 88% 18.6M 0s\n",
      "  4900K .......... .......... .......... .......... .......... 89% 19.9M 0s\n",
      "  4950K .......... .......... .......... .......... .......... 90% 14.8M 0s\n",
      "  5000K .......... .......... .......... .......... .......... 91% 12.2M 0s\n",
      "  5050K .......... .......... .......... .......... .......... 92% 25.9M 0s\n",
      "  5100K .......... .......... .......... .......... .......... 93% 15.2M 0s\n",
      "  5150K .......... .......... .......... .......... .......... 94% 14.5M 0s\n",
      "  5200K .......... .......... .......... .......... .......... 95% 7.31M 0s\n",
      "  5250K .......... .......... .......... .......... .......... 96% 21.5M 0s\n",
      "  5300K .......... .......... .......... .......... .......... 97% 15.5M 0s\n",
      "  5350K .......... .......... .......... .......... .......... 97% 20.7M 0s\n",
      "  5400K .......... .......... .......... .......... .......... 98% 17.7M 0s\n",
      "  5450K .......... .......... .......... .......... .......... 99% 16.7M 0s\n",
      "  5500K .......... .                                          100% 37.9M=0.5s\n",
      "\n",
      "2022-04-28 21:51:26 (11.5 MB/s) - 'sarcasm.json' saved [5643545/5643545]\n",
      "\n"
     ]
    }
   ],
   "source": [
    "# Download the dataset\n",
    "!wget https://storage.googleapis.com/tensorflow-1-public/course3/sarcasm.json"
   ]
  },
  {
   "cell_type": "code",
   "execution_count": 3,
   "metadata": {
    "id": "oaLaaqhNkUPd"
   },
   "outputs": [],
   "source": [
    "import json\n",
    "\n",
    "# Load the JSON file\n",
    "with open(\"./sarcasm.json\", 'r') as f:\n",
    "    datastore = json.load(f)\n",
    "\n",
    "# Initialize the lists\n",
    "sentences = []\n",
    "labels = []\n",
    "\n",
    "# Collect sentences and labels into the lists\n",
    "for item in datastore:\n",
    "    sentences.append(item['headline'])\n",
    "    labels.append(item['is_sarcastic'])"
   ]
  },
  {
   "cell_type": "markdown",
   "metadata": {
    "id": "kw1I6oNSfCxa"
   },
   "source": [
    "## Hyperparameters\n",
    "\n",
    "We placed the hyperparameters in the cell below so you can easily tweak it later:"
   ]
  },
  {
   "cell_type": "code",
   "execution_count": 23,
   "metadata": {
    "id": "wpF4x5olfHX-"
   },
   "outputs": [],
   "source": [
    "# Number of examples to use for training\n",
    "training_size = 20000\n",
    "\n",
    "# Vocabulary size of the tokenizer\n",
    "vocab_size = 1000 #10000\n",
    "\n",
    "# Maximum length of the padded sequences\n",
    "max_length = 32 #16 #32\n",
    "\n",
    "# Output dimensions of the Embedding layer\n",
    "embedding_dim = 32 #16, 32"
   ]
  },
  {
   "cell_type": "markdown",
   "metadata": {
    "id": "dHibcDI0H5Zj"
   },
   "source": [
    "## Split the dataset\n",
    "\n",
    "Next, you will generate your train and test datasets. You will use the `training_size` value you set above to slice the `sentences` and `labels` lists into two sublists: one fore training and another for testing."
   ]
  },
  {
   "cell_type": "code",
   "execution_count": 24,
   "metadata": {
    "id": "S1sD-7v0kYWk"
   },
   "outputs": [],
   "source": [
    "# Split the sentences\n",
    "training_sentences = sentences[0:training_size]\n",
    "testing_sentences = sentences[training_size:]\n",
    "\n",
    "# Split the labels\n",
    "training_labels = labels[0:training_size]\n",
    "testing_labels = labels[training_size:]"
   ]
  },
  {
   "cell_type": "markdown",
   "metadata": {
    "id": "qciTzNR7IHzJ"
   },
   "source": [
    "## Preprocessing the train and test sets\n",
    "\n",
    "Now you can preprocess the text and labels so it can be consumed by the model. You use the `Tokenizer` class to create the vocabulary and the `pad_sequences` method to generate padded token sequences. You will also need to set the labels to a numpy array so it can be a valid data type for `model.fit()`."
   ]
  },
  {
   "cell_type": "code",
   "execution_count": 25,
   "metadata": {
    "id": "3u8UB0MCkZ5N"
   },
   "outputs": [],
   "source": [
    "import numpy as np\n",
    "from tensorflow.keras.preprocessing.text import Tokenizer\n",
    "from tensorflow.keras.preprocessing.sequence import pad_sequences\n",
    "\n",
    "# Parameters for padding and OOV tokens\n",
    "trunc_type='post'\n",
    "padding_type='post'\n",
    "oov_tok = \"<OOV>\"\n",
    "\n",
    "# Initialize the Tokenizer class\n",
    "tokenizer = Tokenizer(num_words=vocab_size, oov_token=oov_tok)\n",
    "\n",
    "# Generate the word index dictionary\n",
    "tokenizer.fit_on_texts(training_sentences)\n",
    "word_index = tokenizer.word_index\n",
    "\n",
    "# Generate and pad the training sequences\n",
    "training_sequences = tokenizer.texts_to_sequences(training_sentences)\n",
    "training_padded = pad_sequences(training_sequences, maxlen=max_length, padding=padding_type, truncating=trunc_type)\n",
    "\n",
    "# Generate and pad the testing sequences\n",
    "testing_sequences = tokenizer.texts_to_sequences(testing_sentences)\n",
    "testing_padded = pad_sequences(testing_sequences, maxlen=max_length, padding=padding_type, truncating=trunc_type)\n",
    "\n",
    "# Convert the labels lists into numpy arrays\n",
    "training_labels = np.array(training_labels)\n",
    "testing_labels = np.array(testing_labels)"
   ]
  },
  {
   "cell_type": "markdown",
   "metadata": {
    "id": "AMF4afx2IdHo"
   },
   "source": [
    "## Build and Compile the Model\n",
    "\n",
    "Next, you will build the model. The architecture is similar to the previous lab but you will use a [GlobalAveragePooling1D](https://www.tensorflow.org/api_docs/python/tf/keras/layers/GlobalAveragePooling1D) layer instead of `Flatten` after the Embedding. This adds the task of averaging over the sequence dimension before connecting to the dense layers. See a short demo of how this works using the snippet below. Notice that it gets the average over 3 arrays (i.e. `(10 + 1 + 1) / 3` and `(2 + 3 + 1) / 3` to arrive at the final output."
   ]
  },
  {
   "cell_type": "code",
   "execution_count": 26,
   "metadata": {
    "id": "7KDCvSc0kFOz"
   },
   "outputs": [
    {
     "name": "stdout",
     "output_type": "stream",
     "text": [
      "shape of sample_array = (1, 3, 2)\n",
      "sample array: [[[10  2]\n",
      "  [ 1  3]\n",
      "  [ 1  1]]]\n",
      "output shape of gap1d_layer: (1, 2)\n",
      "output array of gap1d_layer: [[4 2]]\n"
     ]
    }
   ],
   "source": [
    "import tensorflow as tf\n",
    "\n",
    "# Initialize a GlobalAveragePooling1D (GAP1D) layer\n",
    "gap1d_layer = tf.keras.layers.GlobalAveragePooling1D()\n",
    "\n",
    "# Define sample array\n",
    "sample_array = np.array([[[10,2],[1,3],[1,1]]])\n",
    "\n",
    "# Print shape and contents of sample array\n",
    "print(f'shape of sample_array = {sample_array.shape}')\n",
    "print(f'sample array: {sample_array}')\n",
    "\n",
    "# Pass the sample array to the GAP1D layer\n",
    "output = gap1d_layer(sample_array)\n",
    "\n",
    "# Print shape and contents of the GAP1D output array\n",
    "print(f'output shape of gap1d_layer: {output.shape}')\n",
    "print(f'output array of gap1d_layer: {output.numpy()}')"
   ]
  },
  {
   "cell_type": "markdown",
   "metadata": {
    "id": "evlU_kqOshc4"
   },
   "source": [
    "This added computation reduces the dimensionality of the model as compared to using `Flatten()` and thus, the number of training parameters will also decrease. See the output of `model.summary()` below and see how it compares if you swap out the pooling layer with a simple `Flatten()`."
   ]
  },
  {
   "cell_type": "code",
   "execution_count": 27,
   "metadata": {
    "id": "FufaT4vlkiDE"
   },
   "outputs": [
    {
     "name": "stdout",
     "output_type": "stream",
     "text": [
      "Model: \"sequential_2\"\n",
      "_________________________________________________________________\n",
      " Layer (type)                Output Shape              Param #   \n",
      "=================================================================\n",
      " embedding_2 (Embedding)     (None, 32, 32)            32000     \n",
      "                                                                 \n",
      " global_average_pooling1d_5   (None, 32)               0         \n",
      " (GlobalAveragePooling1D)                                        \n",
      "                                                                 \n",
      " dense_4 (Dense)             (None, 24)                792       \n",
      "                                                                 \n",
      " dense_5 (Dense)             (None, 1)                 25        \n",
      "                                                                 \n",
      "=================================================================\n",
      "Total params: 32,817\n",
      "Trainable params: 32,817\n",
      "Non-trainable params: 0\n",
      "_________________________________________________________________\n"
     ]
    }
   ],
   "source": [
    "# Build the model\n",
    "model = tf.keras.Sequential([\n",
    "    tf.keras.layers.Embedding(vocab_size, embedding_dim, input_length=max_length),\n",
    "    tf.keras.layers.GlobalAveragePooling1D(),\n",
    "    tf.keras.layers.Dense(24, activation='relu'),\n",
    "    tf.keras.layers.Dense(1, activation='sigmoid')\n",
    "])\n",
    "\n",
    "# Print the model summary\n",
    "model.summary()"
   ]
  },
  {
   "cell_type": "markdown",
   "metadata": {
    "id": "GMxT5NzKtRgr"
   },
   "source": [
    "You will use the same loss, optimizer, and metrics from the previous lab."
   ]
  },
  {
   "cell_type": "code",
   "execution_count": 28,
   "metadata": {
    "id": "XfDt1hmYkiys"
   },
   "outputs": [],
   "source": [
    "# Compile the model\n",
    "model.compile(loss='binary_crossentropy',optimizer='adam',metrics=['accuracy'])"
   ]
  },
  {
   "cell_type": "markdown",
   "metadata": {
    "id": "Axtd-WQAJIUK"
   },
   "source": [
    "## Train the Model\n",
    "\n",
    "Now you will feed in the prepared datasets to train the model. If you used the default hyperparameters, you will get around 99% training accuracy and 80% validation accuracy.\n",
    "\n",
    "*Tip: You can set the `verbose` parameter of `model.fit()` to `2` to indicate that you want to print just the results per epoch. Setting it to `1` (default) displays a progress bar per epoch, while `0` silences all displays. It doesn't matter much in this Colab but when working in a production environment, you may want to set this to `2` as recommended in the [documentation](https://keras.io/api/models/model_training_apis/#fit-method).*"
   ]
  },
  {
   "cell_type": "code",
   "execution_count": 29,
   "metadata": {
    "id": "2DTKQFf1kkyc"
   },
   "outputs": [
    {
     "name": "stdout",
     "output_type": "stream",
     "text": [
      "Epoch 1/30\n",
      "625/625 - 1s - loss: 0.5544 - accuracy: 0.7035 - val_loss: 0.4242 - val_accuracy: 0.8024 - 1s/epoch - 2ms/step\n",
      "Epoch 2/30\n",
      "625/625 - 1s - loss: 0.3859 - accuracy: 0.8238 - val_loss: 0.4002 - val_accuracy: 0.8150 - 890ms/epoch - 1ms/step\n",
      "Epoch 3/30\n",
      "625/625 - 1s - loss: 0.3663 - accuracy: 0.8337 - val_loss: 0.4002 - val_accuracy: 0.8098 - 901ms/epoch - 1ms/step\n",
      "Epoch 4/30\n",
      "625/625 - 1s - loss: 0.3600 - accuracy: 0.8364 - val_loss: 0.4081 - val_accuracy: 0.8070 - 838ms/epoch - 1ms/step\n",
      "Epoch 5/30\n",
      "625/625 - 1s - loss: 0.3556 - accuracy: 0.8400 - val_loss: 0.4042 - val_accuracy: 0.8117 - 897ms/epoch - 1ms/step\n",
      "Epoch 6/30\n",
      "625/625 - 1s - loss: 0.3540 - accuracy: 0.8360 - val_loss: 0.4058 - val_accuracy: 0.8132 - 875ms/epoch - 1ms/step\n",
      "Epoch 7/30\n",
      "625/625 - 1s - loss: 0.3526 - accuracy: 0.8393 - val_loss: 0.4207 - val_accuracy: 0.8030 - 870ms/epoch - 1ms/step\n",
      "Epoch 8/30\n",
      "625/625 - 1s - loss: 0.3509 - accuracy: 0.8415 - val_loss: 0.4058 - val_accuracy: 0.8126 - 870ms/epoch - 1ms/step\n",
      "Epoch 9/30\n",
      "625/625 - 1s - loss: 0.3506 - accuracy: 0.8400 - val_loss: 0.4072 - val_accuracy: 0.8125 - 904ms/epoch - 1ms/step\n",
      "Epoch 10/30\n",
      "625/625 - 1s - loss: 0.3491 - accuracy: 0.8429 - val_loss: 0.4054 - val_accuracy: 0.8134 - 911ms/epoch - 1ms/step\n",
      "Epoch 11/30\n",
      "625/625 - 1s - loss: 0.3469 - accuracy: 0.8449 - val_loss: 0.4036 - val_accuracy: 0.8123 - 885ms/epoch - 1ms/step\n",
      "Epoch 12/30\n",
      "625/625 - 1s - loss: 0.3463 - accuracy: 0.8422 - val_loss: 0.4042 - val_accuracy: 0.8129 - 952ms/epoch - 2ms/step\n",
      "Epoch 13/30\n",
      "625/625 - 1s - loss: 0.3444 - accuracy: 0.8433 - val_loss: 0.4033 - val_accuracy: 0.8140 - 855ms/epoch - 1ms/step\n",
      "Epoch 14/30\n",
      "625/625 - 1s - loss: 0.3427 - accuracy: 0.8449 - val_loss: 0.4010 - val_accuracy: 0.8137 - 892ms/epoch - 1ms/step\n",
      "Epoch 15/30\n",
      "625/625 - 1s - loss: 0.3399 - accuracy: 0.8450 - val_loss: 0.4005 - val_accuracy: 0.8158 - 863ms/epoch - 1ms/step\n",
      "Epoch 16/30\n",
      "625/625 - 1s - loss: 0.3370 - accuracy: 0.8449 - val_loss: 0.4096 - val_accuracy: 0.8070 - 857ms/epoch - 1ms/step\n",
      "Epoch 17/30\n",
      "625/625 - 1s - loss: 0.3352 - accuracy: 0.8482 - val_loss: 0.3974 - val_accuracy: 0.8186 - 924ms/epoch - 1ms/step\n",
      "Epoch 18/30\n",
      "625/625 - 1s - loss: 0.3333 - accuracy: 0.8493 - val_loss: 0.3979 - val_accuracy: 0.8207 - 843ms/epoch - 1ms/step\n",
      "Epoch 19/30\n",
      "625/625 - 1s - loss: 0.3293 - accuracy: 0.8504 - val_loss: 0.4000 - val_accuracy: 0.8147 - 888ms/epoch - 1ms/step\n",
      "Epoch 20/30\n",
      "625/625 - 1s - loss: 0.3265 - accuracy: 0.8528 - val_loss: 0.3972 - val_accuracy: 0.8207 - 889ms/epoch - 1ms/step\n",
      "Epoch 21/30\n",
      "625/625 - 1s - loss: 0.3249 - accuracy: 0.8544 - val_loss: 0.3962 - val_accuracy: 0.8213 - 961ms/epoch - 2ms/step\n",
      "Epoch 22/30\n",
      "625/625 - 1s - loss: 0.3219 - accuracy: 0.8562 - val_loss: 0.3992 - val_accuracy: 0.8180 - 860ms/epoch - 1ms/step\n",
      "Epoch 23/30\n",
      "625/625 - 1s - loss: 0.3191 - accuracy: 0.8565 - val_loss: 0.4097 - val_accuracy: 0.8137 - 859ms/epoch - 1ms/step\n",
      "Epoch 24/30\n",
      "625/625 - 1s - loss: 0.3173 - accuracy: 0.8596 - val_loss: 0.4107 - val_accuracy: 0.8098 - 883ms/epoch - 1ms/step\n",
      "Epoch 25/30\n",
      "625/625 - 1s - loss: 0.3158 - accuracy: 0.8606 - val_loss: 0.3993 - val_accuracy: 0.8238 - 913ms/epoch - 1ms/step\n",
      "Epoch 26/30\n",
      "625/625 - 1s - loss: 0.3139 - accuracy: 0.8600 - val_loss: 0.4009 - val_accuracy: 0.8207 - 878ms/epoch - 1ms/step\n",
      "Epoch 27/30\n",
      "625/625 - 1s - loss: 0.3122 - accuracy: 0.8605 - val_loss: 0.4020 - val_accuracy: 0.8195 - 887ms/epoch - 1ms/step\n",
      "Epoch 28/30\n",
      "625/625 - 1s - loss: 0.3095 - accuracy: 0.8633 - val_loss: 0.4107 - val_accuracy: 0.8123 - 970ms/epoch - 2ms/step\n",
      "Epoch 29/30\n",
      "625/625 - 1s - loss: 0.3086 - accuracy: 0.8645 - val_loss: 0.4032 - val_accuracy: 0.8217 - 839ms/epoch - 1ms/step\n",
      "Epoch 30/30\n",
      "625/625 - 1s - loss: 0.3063 - accuracy: 0.8645 - val_loss: 0.4051 - val_accuracy: 0.8213 - 858ms/epoch - 1ms/step\n"
     ]
    }
   ],
   "source": [
    "num_epochs = 30\n",
    "\n",
    "# Train the model\n",
    "history = model.fit(training_padded, training_labels, epochs=num_epochs, validation_data=(testing_padded, testing_labels), verbose=2)"
   ]
  },
  {
   "cell_type": "markdown",
   "metadata": {
    "id": "L_bWhGOSJLLm"
   },
   "source": [
    "## Visualize the Results\n",
    "\n",
    "You can use the cell below to plot the training results. You may notice some overfitting because your validation accuracy is slowly dropping while the training accuracy is still going up. See if you can improve it by tweaking the hyperparameters. Some example values are shown in the lectures."
   ]
  },
  {
   "cell_type": "code",
   "execution_count": 22,
   "metadata": {
    "id": "2HYfBKXjkmU8"
   },
   "outputs": [
    {
     "data": {
      "image/png": "[encoded data removed]",
      "text/plain": [
       "<Figure size 432x288 with 1 Axes>"
      ]
     },
     "metadata": {
      "needs_background": "light"
     },
     "output_type": "display_data"
    },
    {
     "data": {
      "image/png": "[encoded data removed]",
      "text/plain": [
       "<Figure size 432x288 with 1 Axes>"
      ]
     },
     "metadata": {
      "needs_background": "light"
     },
     "output_type": "display_data"
    }
   ],
   "source": [
    "import matplotlib.pyplot as plt\n",
    "\n",
    "# Plot utility\n",
    "def plot_graphs(history, string):\n",
    "    plt.plot(history.history[string])\n",
    "    plt.plot(history.history['val_'+string])\n",
    "    plt.xlabel(\"Epochs\")\n",
    "    plt.ylabel(string)\n",
    "    plt.legend([string, 'val_'+string])\n",
    "    plt.show()\n",
    "  \n",
    "# Plot the accuracy and loss\n",
    "plot_graphs(history, \"accuracy\")\n",
    "plot_graphs(history, \"loss\")"
   ]
  },
  {
   "cell_type": "markdown",
   "metadata": {
    "id": "JN6kaxxcJQgd"
   },
   "source": [
    "## Visualize Word Embeddings\n",
    "\n",
    "As before, you can visualize the final weights of the embeddings using the [Tensorflow Embedding Projector](https://projector.tensorflow.org/)."
   ]
  },
  {
   "cell_type": "code",
   "execution_count": 12,
   "metadata": {
    "id": "c9MqihtEkzQ9"
   },
   "outputs": [
    {
     "name": "stdout",
     "output_type": "stream",
     "text": [
      "(1000, 32)\n"
     ]
    }
   ],
   "source": [
    "# Get the index-word dictionary\n",
    "reverse_word_index = tokenizer.index_word\n",
    "\n",
    "# Get the embedding layer from the model (i.e. first layer)\n",
    "embedding_layer = model.layers[0]\n",
    "\n",
    "# Get the weights of the embedding layer\n",
    "embedding_weights = embedding_layer.get_weights()[0]\n",
    "\n",
    "# Print the shape. Expected is (vocab_size, embedding_dim)\n",
    "print(embedding_weights.shape) \n"
   ]
  },
  {
   "cell_type": "code",
   "execution_count": 13,
   "metadata": {
    "id": "LoBXVffknldU"
   },
   "outputs": [],
   "source": [
    "import io\n",
    "\n",
    "# Open writeable files\n",
    "out_v = io.open('vecs.tsv', 'w', encoding='utf-8')\n",
    "out_m = io.open('meta.tsv', 'w', encoding='utf-8')\n",
    "\n",
    "# Initialize the loop. Start counting at `1` because `0` is just for the padding\n",
    "for word_num in range(1, vocab_size):\n",
    "\n",
    "  # Get the word associated at the current index\n",
    "  word_name = reverse_word_index[word_num]\n",
    "\n",
    "  # Get the embedding weights associated with the current index\n",
    "  word_embedding = embedding_weights[word_num]\n",
    "\n",
    "  # Write the word name\n",
    "  out_m.write(word_name + \"\\n\")\n",
    "\n",
    "  # Write the word embedding\n",
    "  out_v.write('\\t'.join([str(x) for x in word_embedding]) + \"\\n\")\n",
    "\n",
    "# Close the files\n",
    "out_v.close()\n",
    "out_m.close()"
   ]
  },
  {
   "cell_type": "code",
   "execution_count": null,
   "metadata": {
    "id": "U4eZ5HtVnnEE"
   },
   "outputs": [],
   "source": [
    "# Import files utilities in Colab\n",
    "try:\n",
    "    from google.colab import files\n",
    "except ImportError:\n",
    "    pass\n",
    "\n",
    "# Download the files\n",
    "else:\n",
    "    files.download('vecs.tsv')\n",
    "    files.download('meta.tsv')"
   ]
  },
  {
   "cell_type": "markdown",
   "metadata": {
    "id": "1GierJvdJWMt"
   },
   "source": [
    "## Wrap Up\n",
    "\n",
    "In this lab, you were able to build a binary classifier to detect sarcasm. You saw some overfitting in the initial attempt and hopefully, you were able to arrive at a better set of hyperparameters.\n",
    "\n",
    "So far, you've been tokenizing datasets from scratch and you're treating the vocab size as a hyperparameter. Furthermore, you're tokenizing the texts by building a vocabulary of full words. In the next lab, you will make use of a pre-tokenized dataset that uses a vocabulary of *subwords*. For instance, instead of having a uniqe token for the word `Tensorflow`, it will instead have a token each for `Ten`, `sor`, and `flow`. You will see the motivation and implications of having this design in the next exercise. See you there!"
   ]
  }
 ],
 "metadata": {
  "colab": {
   "collapsed_sections": [],
   "name": "C3_W2_Lab_2_sarcasm_classifier.ipynb",
   "private_outputs": true,
   "provenance": []
  },
  "kernelspec": {
   "display_name": "Python 3 (ipykernel)",
   "language": "python",
   "name": "python3"
  },
  "language_info": {
   "codemirror_mode": {
    "name": "ipython",
    "version": 3
   },
   "file_extension": ".py",
   "mimetype": "text/x-python",
   "name": "python",
   "nbconvert_exporter": "python",
   "pygments_lexer": "ipython3",
   "version": "3.9.6"
  }
 },
 "nbformat": 4,
 "nbformat_minor": 4
}
